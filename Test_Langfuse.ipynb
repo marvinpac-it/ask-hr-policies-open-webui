{
 "cells": [
  {
   "cell_type": "markdown",
   "id": "66b13000-f512-44b6-a161-f9fbbbdc4c02",
   "metadata": {},
   "source": [
    "# Test Langfuse"
   ]
  },
  {
   "cell_type": "code",
   "execution_count": null,
   "id": "14354516-66de-4f64-a323-c72d37ebfd65",
   "metadata": {},
   "outputs": [],
   "source": [
    "import os\n",
    "os.environ[\"OPENAI_API_KEY\"]"
   ]
  },
  {
   "cell_type": "code",
   "execution_count": 24,
   "id": "876999b9-3cbf-4ae6-a7a6-b3f25dc79e91",
   "metadata": {},
   "outputs": [],
   "source": [
    "import os\n",
    "from dotenv import load_dotenv, find_dotenv\n",
    "\n",
    "from langchain_openai import ChatOpenAI\n",
    "from langchain_core.prompts import PromptTemplate\n",
    "from langfuse.callback import CallbackHandler\n",
    "\n",
    "# Chargement de la clé d'API OpenAI\n",
    "_ = load_dotenv(find_dotenv()) # read local .env file\n",
    "\n",
    "# Initialize Langfuse handler\n",
    "langfuse_handler = CallbackHandler(\n",
    "    public_key=\"pk-lf-708afd73-410a-4a3a-8f85-8b036d70cacd\",\n",
    "    secret_key=os.environ['LANGFUSE_SECRET_KEY'],\n",
    "    host=\"https://langfuse.marvinpac.com\"\n",
    ")\n",
    "\n",
    "# Define a simple LLM\n",
    "llm = ChatOpenAI(model=\"gpt-4o-mini\", temperature=0.5)\n",
    "\n",
    "prompt = PromptTemplate.from_template(\"How to say {input} in {output_language}:\\n\")\n",
    "\n",
    "chain = prompt | llm\n",
    "gen = chain.stream(\n",
    "    {\n",
    "        \"output_language\": \"German\",\n",
    "        \"input\": \"I love programming.\",\n",
    "    }, config={\"callbacks\": [langfuse_handler]}\n",
    ")\n"
   ]
  },
  {
   "cell_type": "code",
   "execution_count": null,
   "id": "6d17d0af-9a57-436c-9980-0c4a9e9e7e2c",
   "metadata": {},
   "outputs": [],
   "source": [
    "for g in gen:\n",
    "    print(g)"
   ]
  },
  {
   "cell_type": "code",
   "execution_count": null,
   "id": "bc66833c-5e8d-4737-8c48-7f04f70352a2",
   "metadata": {},
   "outputs": [],
   "source": [
    "a"
   ]
  },
  {
   "cell_type": "code",
   "execution_count": null,
   "id": "1efc4447-170e-41e0-971b-8c10bf024698",
   "metadata": {},
   "outputs": [],
   "source": []
  }
 ],
 "metadata": {
  "kernelspec": {
   "display_name": "Python 3 (ipykernel)",
   "language": "python",
   "name": "python3"
  },
  "language_info": {
   "codemirror_mode": {
    "name": "ipython",
    "version": 3
   },
   "file_extension": ".py",
   "mimetype": "text/x-python",
   "name": "python",
   "nbconvert_exporter": "python",
   "pygments_lexer": "ipython3",
   "version": "3.10.14"
  }
 },
 "nbformat": 4,
 "nbformat_minor": 5
}
